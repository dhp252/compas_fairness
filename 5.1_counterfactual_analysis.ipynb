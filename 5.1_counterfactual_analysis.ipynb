{
 "cells": [
  {
   "cell_type": "markdown",
   "metadata": {},
   "source": [
    " # Defines"
   ]
  },
  {
   "cell_type": "markdown",
   "metadata": {},
   "source": [
    " ## Libraries"
   ]
  },
  {
   "cell_type": "code",
   "execution_count": 1,
   "metadata": {},
   "outputs": [],
   "source": [
    "import pickle\n",
    "\n",
    "import pandas as pd\n",
    "from sklearn.pipeline import Pipeline\n",
    "import matplotlib.pyplot as plt\n",
    "import seaborn as sns\n",
    "import plotly.express as px\n",
    "import plotly.graph_objects as go\n",
    "\n",
    "# show all columns\n",
    "pd.set_option(\"display.max_columns\", None)\n",
    "pd.set_option(\"display.max_rows\", 100)"
   ]
  },
  {
   "cell_type": "markdown",
   "metadata": {},
   "source": [
    " ## Data"
   ]
  },
  {
   "cell_type": "code",
   "execution_count": 2,
   "metadata": {},
   "outputs": [],
   "source": [
    "# Load data\n",
    "with open(\"output/data.pkl\", \"rb\") as f:\n",
    "    data = pickle.load(f)\n",
    "\n",
    "X_train = data[\"X_train\"]\n",
    "y_train_true = data[\"y_train_true\"]\n",
    "y_train_compas = data[\"y_train_compas\"]\n",
    "X_test = data[\"X_test\"]\n",
    "y_test_true = data[\"y_test_true\"]\n",
    "y_test_compas = data[\"y_test_compas\"]\n",
    "\n",
    "# Load model\n",
    "with open(\"output/model.pkl\", \"rb\") as f:\n",
    "    model = pickle.load(f)"
   ]
  },
  {
   "cell_type": "code",
   "execution_count": 3,
   "metadata": {},
   "outputs": [],
   "source": [
    "protected_features = [\"is_black\", \"is_male\", \"age\"]"
   ]
  },
  {
   "cell_type": "code",
   "execution_count": 4,
   "metadata": {},
   "outputs": [
    {
     "name": "stdout",
     "output_type": "stream",
     "text": [
      "X_train shape: (4937, 9)\n",
      "X_test shape: (1235, 9)\n",
      "y_train_compas shape: (4937,)\n",
      "y_test_compas shape: (1235,)\n",
      "y_train_true shape: (4937,)\n",
      "y_test_true shape: (1235,)\n"
     ]
    }
   ],
   "source": [
    "# Print the shapes of the train and test sets\n",
    "print(\"X_train shape:\", X_train.shape)\n",
    "print(\"X_test shape:\", X_test.shape)\n",
    "\n",
    "print(\"y_train_compas shape:\", y_train_compas.shape)\n",
    "print(\"y_test_compas shape:\", y_test_compas.shape)\n",
    "\n",
    "print(\"y_train_true shape:\", y_train_true.shape)\n",
    "print(\"y_test_true shape:\", y_test_true.shape)"
   ]
  },
  {
   "cell_type": "code",
   "execution_count": 5,
   "metadata": {},
   "outputs": [],
   "source": [
    "pipeline = Pipeline(steps=[(\"model\", model)])\n",
    "y_pred_proba = pipeline.predict_proba(X_test)[:, 1]\n",
    "\n",
    "continuous_features = list(X_test.columns)\n",
    "\n",
    "THRESHOLD = 0.5"
   ]
  },
  {
   "cell_type": "code",
   "execution_count": 6,
   "metadata": {},
   "outputs": [],
   "source": [
    "# read cf_resuls_df file\n",
    "with open(\"output/cf_results_df.pkl\", \"rb\") as f:\n",
    "    cf_results_df = pickle.load(f)"
   ]
  },
  {
   "cell_type": "code",
   "execution_count": 7,
   "metadata": {},
   "outputs": [
    {
     "data": {
      "text/html": [
       "<div>\n",
       "<style scoped>\n",
       "    .dataframe tbody tr th:only-of-type {\n",
       "        vertical-align: middle;\n",
       "    }\n",
       "\n",
       "    .dataframe tbody tr th {\n",
       "        vertical-align: top;\n",
       "    }\n",
       "\n",
       "    .dataframe thead th {\n",
       "        text-align: right;\n",
       "    }\n",
       "</style>\n",
       "<table border=\"1\" class=\"dataframe\">\n",
       "  <thead>\n",
       "    <tr style=\"text-align: right;\">\n",
       "      <th></th>\n",
       "      <th>is_male</th>\n",
       "      <th>age</th>\n",
       "      <th>juv_fel_count</th>\n",
       "      <th>juv_misd_count</th>\n",
       "      <th>juv_other_count</th>\n",
       "      <th>priors_count</th>\n",
       "      <th>days_b_screening_arrest</th>\n",
       "      <th>is_felony</th>\n",
       "      <th>is_black</th>\n",
       "      <th>y_pred</th>\n",
       "      <th>cf_y_pred_proba</th>\n",
       "      <th>cf_y_pred</th>\n",
       "      <th>original_index</th>\n",
       "      <th>original_is_black</th>\n",
       "      <th>original_y_pred</th>\n",
       "      <th>original_y_pred_proba</th>\n",
       "    </tr>\n",
       "  </thead>\n",
       "  <tbody>\n",
       "    <tr>\n",
       "      <th>0</th>\n",
       "      <td>1.0</td>\n",
       "      <td>26.0</td>\n",
       "      <td>0.0</td>\n",
       "      <td>0.0</td>\n",
       "      <td>0.0</td>\n",
       "      <td>2.0</td>\n",
       "      <td>0.0</td>\n",
       "      <td>0.0</td>\n",
       "      <td>1.0</td>\n",
       "      <td>0</td>\n",
       "      <td>0.497329</td>\n",
       "      <td>0</td>\n",
       "      <td>2681</td>\n",
       "      <td>1</td>\n",
       "      <td>1.0</td>\n",
       "      <td>0.650344</td>\n",
       "    </tr>\n",
       "    <tr>\n",
       "      <th>1</th>\n",
       "      <td>1.0</td>\n",
       "      <td>26.0</td>\n",
       "      <td>0.0</td>\n",
       "      <td>0.0</td>\n",
       "      <td>0.0</td>\n",
       "      <td>0.0</td>\n",
       "      <td>0.0</td>\n",
       "      <td>0.0</td>\n",
       "      <td>1.0</td>\n",
       "      <td>0</td>\n",
       "      <td>0.379920</td>\n",
       "      <td>0</td>\n",
       "      <td>2681</td>\n",
       "      <td>1</td>\n",
       "      <td>1.0</td>\n",
       "      <td>0.650344</td>\n",
       "    </tr>\n",
       "    <tr>\n",
       "      <th>2</th>\n",
       "      <td>1.0</td>\n",
       "      <td>26.0</td>\n",
       "      <td>0.0</td>\n",
       "      <td>7.0</td>\n",
       "      <td>0.0</td>\n",
       "      <td>0.0</td>\n",
       "      <td>0.0</td>\n",
       "      <td>0.0</td>\n",
       "      <td>1.0</td>\n",
       "      <td>0</td>\n",
       "      <td>0.383554</td>\n",
       "      <td>0</td>\n",
       "      <td>2681</td>\n",
       "      <td>1</td>\n",
       "      <td>1.0</td>\n",
       "      <td>0.650344</td>\n",
       "    </tr>\n",
       "    <tr>\n",
       "      <th>3</th>\n",
       "      <td>1.0</td>\n",
       "      <td>26.0</td>\n",
       "      <td>0.0</td>\n",
       "      <td>0.0</td>\n",
       "      <td>0.0</td>\n",
       "      <td>0.0</td>\n",
       "      <td>0.0</td>\n",
       "      <td>0.0</td>\n",
       "      <td>0.0</td>\n",
       "      <td>0</td>\n",
       "      <td>0.347113</td>\n",
       "      <td>0</td>\n",
       "      <td>2681</td>\n",
       "      <td>1</td>\n",
       "      <td>1.0</td>\n",
       "      <td>0.650344</td>\n",
       "    </tr>\n",
       "    <tr>\n",
       "      <th>4</th>\n",
       "      <td>1.0</td>\n",
       "      <td>62.0</td>\n",
       "      <td>0.0</td>\n",
       "      <td>0.0</td>\n",
       "      <td>0.0</td>\n",
       "      <td>13.0</td>\n",
       "      <td>0.0</td>\n",
       "      <td>0.0</td>\n",
       "      <td>0.0</td>\n",
       "      <td>0</td>\n",
       "      <td>0.497334</td>\n",
       "      <td>0</td>\n",
       "      <td>2681</td>\n",
       "      <td>1</td>\n",
       "      <td>1.0</td>\n",
       "      <td>0.650344</td>\n",
       "    </tr>\n",
       "    <tr>\n",
       "      <th>5</th>\n",
       "      <td>1.0</td>\n",
       "      <td>31.0</td>\n",
       "      <td>0.0</td>\n",
       "      <td>1.0</td>\n",
       "      <td>7.0</td>\n",
       "      <td>9.0</td>\n",
       "      <td>0.0</td>\n",
       "      <td>0.0</td>\n",
       "      <td>0.0</td>\n",
       "      <td>1</td>\n",
       "      <td>0.660983</td>\n",
       "      <td>1</td>\n",
       "      <td>2164</td>\n",
       "      <td>0</td>\n",
       "      <td>0.0</td>\n",
       "      <td>0.401980</td>\n",
       "    </tr>\n",
       "    <tr>\n",
       "      <th>6</th>\n",
       "      <td>1.0</td>\n",
       "      <td>31.0</td>\n",
       "      <td>0.0</td>\n",
       "      <td>1.0</td>\n",
       "      <td>0.0</td>\n",
       "      <td>17.0</td>\n",
       "      <td>0.2</td>\n",
       "      <td>0.0</td>\n",
       "      <td>0.0</td>\n",
       "      <td>1</td>\n",
       "      <td>0.627024</td>\n",
       "      <td>1</td>\n",
       "      <td>2164</td>\n",
       "      <td>0</td>\n",
       "      <td>0.0</td>\n",
       "      <td>0.401980</td>\n",
       "    </tr>\n",
       "    <tr>\n",
       "      <th>7</th>\n",
       "      <td>1.0</td>\n",
       "      <td>31.0</td>\n",
       "      <td>0.0</td>\n",
       "      <td>1.0</td>\n",
       "      <td>0.0</td>\n",
       "      <td>16.0</td>\n",
       "      <td>0.0</td>\n",
       "      <td>0.0</td>\n",
       "      <td>0.0</td>\n",
       "      <td>1</td>\n",
       "      <td>0.627024</td>\n",
       "      <td>1</td>\n",
       "      <td>2164</td>\n",
       "      <td>0</td>\n",
       "      <td>0.0</td>\n",
       "      <td>0.401980</td>\n",
       "    </tr>\n",
       "    <tr>\n",
       "      <th>8</th>\n",
       "      <td>1.0</td>\n",
       "      <td>31.0</td>\n",
       "      <td>0.0</td>\n",
       "      <td>1.0</td>\n",
       "      <td>0.0</td>\n",
       "      <td>13.0</td>\n",
       "      <td>0.0</td>\n",
       "      <td>0.0</td>\n",
       "      <td>0.0</td>\n",
       "      <td>1</td>\n",
       "      <td>0.612361</td>\n",
       "      <td>1</td>\n",
       "      <td>2164</td>\n",
       "      <td>0</td>\n",
       "      <td>0.0</td>\n",
       "      <td>0.401980</td>\n",
       "    </tr>\n",
       "    <tr>\n",
       "      <th>9</th>\n",
       "      <td>1.0</td>\n",
       "      <td>31.0</td>\n",
       "      <td>0.0</td>\n",
       "      <td>6.0</td>\n",
       "      <td>0.0</td>\n",
       "      <td>30.0</td>\n",
       "      <td>0.0</td>\n",
       "      <td>0.0</td>\n",
       "      <td>0.0</td>\n",
       "      <td>1</td>\n",
       "      <td>0.634496</td>\n",
       "      <td>1</td>\n",
       "      <td>2164</td>\n",
       "      <td>0</td>\n",
       "      <td>0.0</td>\n",
       "      <td>0.401980</td>\n",
       "    </tr>\n",
       "    <tr>\n",
       "      <th>10</th>\n",
       "      <td>1.0</td>\n",
       "      <td>62.0</td>\n",
       "      <td>0.0</td>\n",
       "      <td>0.0</td>\n",
       "      <td>7.0</td>\n",
       "      <td>2.0</td>\n",
       "      <td>0.0</td>\n",
       "      <td>1.0</td>\n",
       "      <td>1.0</td>\n",
       "      <td>0</td>\n",
       "      <td>0.414306</td>\n",
       "      <td>0</td>\n",
       "      <td>3875</td>\n",
       "      <td>1</td>\n",
       "      <td>1.0</td>\n",
       "      <td>0.520566</td>\n",
       "    </tr>\n",
       "    <tr>\n",
       "      <th>11</th>\n",
       "      <td>1.0</td>\n",
       "      <td>59.0</td>\n",
       "      <td>0.0</td>\n",
       "      <td>0.0</td>\n",
       "      <td>0.0</td>\n",
       "      <td>2.0</td>\n",
       "      <td>29.6</td>\n",
       "      <td>1.0</td>\n",
       "      <td>1.0</td>\n",
       "      <td>0</td>\n",
       "      <td>0.397811</td>\n",
       "      <td>0</td>\n",
       "      <td>3875</td>\n",
       "      <td>1</td>\n",
       "      <td>1.0</td>\n",
       "      <td>0.520566</td>\n",
       "    </tr>\n",
       "    <tr>\n",
       "      <th>12</th>\n",
       "      <td>1.0</td>\n",
       "      <td>54.0</td>\n",
       "      <td>0.0</td>\n",
       "      <td>10.0</td>\n",
       "      <td>0.0</td>\n",
       "      <td>2.0</td>\n",
       "      <td>0.0</td>\n",
       "      <td>1.0</td>\n",
       "      <td>1.0</td>\n",
       "      <td>0</td>\n",
       "      <td>0.411396</td>\n",
       "      <td>0</td>\n",
       "      <td>3875</td>\n",
       "      <td>1</td>\n",
       "      <td>1.0</td>\n",
       "      <td>0.520566</td>\n",
       "    </tr>\n",
       "    <tr>\n",
       "      <th>13</th>\n",
       "      <td>1.0</td>\n",
       "      <td>27.0</td>\n",
       "      <td>0.0</td>\n",
       "      <td>0.0</td>\n",
       "      <td>0.0</td>\n",
       "      <td>2.0</td>\n",
       "      <td>-27.1</td>\n",
       "      <td>1.0</td>\n",
       "      <td>1.0</td>\n",
       "      <td>0</td>\n",
       "      <td>0.492098</td>\n",
       "      <td>0</td>\n",
       "      <td>3875</td>\n",
       "      <td>1</td>\n",
       "      <td>1.0</td>\n",
       "      <td>0.520566</td>\n",
       "    </tr>\n",
       "    <tr>\n",
       "      <th>14</th>\n",
       "      <td>1.0</td>\n",
       "      <td>72.0</td>\n",
       "      <td>8.0</td>\n",
       "      <td>0.0</td>\n",
       "      <td>0.0</td>\n",
       "      <td>2.0</td>\n",
       "      <td>0.0</td>\n",
       "      <td>1.0</td>\n",
       "      <td>1.0</td>\n",
       "      <td>0</td>\n",
       "      <td>0.382508</td>\n",
       "      <td>0</td>\n",
       "      <td>3875</td>\n",
       "      <td>1</td>\n",
       "      <td>1.0</td>\n",
       "      <td>0.520566</td>\n",
       "    </tr>\n",
       "    <tr>\n",
       "      <th>15</th>\n",
       "      <td>1.0</td>\n",
       "      <td>21.0</td>\n",
       "      <td>0.0</td>\n",
       "      <td>0.0</td>\n",
       "      <td>7.0</td>\n",
       "      <td>10.0</td>\n",
       "      <td>0.0</td>\n",
       "      <td>0.0</td>\n",
       "      <td>0.0</td>\n",
       "      <td>1</td>\n",
       "      <td>0.672581</td>\n",
       "      <td>1</td>\n",
       "      <td>416</td>\n",
       "      <td>0</td>\n",
       "      <td>0.0</td>\n",
       "      <td>0.458236</td>\n",
       "    </tr>\n",
       "    <tr>\n",
       "      <th>16</th>\n",
       "      <td>1.0</td>\n",
       "      <td>21.0</td>\n",
       "      <td>0.0</td>\n",
       "      <td>0.0</td>\n",
       "      <td>2.0</td>\n",
       "      <td>1.0</td>\n",
       "      <td>0.0</td>\n",
       "      <td>0.0</td>\n",
       "      <td>0.0</td>\n",
       "      <td>1</td>\n",
       "      <td>0.550107</td>\n",
       "      <td>1</td>\n",
       "      <td>416</td>\n",
       "      <td>0</td>\n",
       "      <td>0.0</td>\n",
       "      <td>0.458236</td>\n",
       "    </tr>\n",
       "    <tr>\n",
       "      <th>17</th>\n",
       "      <td>1.0</td>\n",
       "      <td>21.0</td>\n",
       "      <td>0.0</td>\n",
       "      <td>0.0</td>\n",
       "      <td>6.0</td>\n",
       "      <td>12.0</td>\n",
       "      <td>0.0</td>\n",
       "      <td>0.0</td>\n",
       "      <td>0.0</td>\n",
       "      <td>1</td>\n",
       "      <td>0.672902</td>\n",
       "      <td>1</td>\n",
       "      <td>416</td>\n",
       "      <td>0</td>\n",
       "      <td>0.0</td>\n",
       "      <td>0.458236</td>\n",
       "    </tr>\n",
       "    <tr>\n",
       "      <th>18</th>\n",
       "      <td>1.0</td>\n",
       "      <td>21.0</td>\n",
       "      <td>0.0</td>\n",
       "      <td>0.0</td>\n",
       "      <td>0.0</td>\n",
       "      <td>18.0</td>\n",
       "      <td>0.0</td>\n",
       "      <td>0.0</td>\n",
       "      <td>1.0</td>\n",
       "      <td>1</td>\n",
       "      <td>0.674230</td>\n",
       "      <td>1</td>\n",
       "      <td>416</td>\n",
       "      <td>0</td>\n",
       "      <td>0.0</td>\n",
       "      <td>0.458236</td>\n",
       "    </tr>\n",
       "    <tr>\n",
       "      <th>19</th>\n",
       "      <td>1.0</td>\n",
       "      <td>20.0</td>\n",
       "      <td>0.0</td>\n",
       "      <td>0.0</td>\n",
       "      <td>0.0</td>\n",
       "      <td>0.0</td>\n",
       "      <td>0.0</td>\n",
       "      <td>1.0</td>\n",
       "      <td>0.0</td>\n",
       "      <td>1</td>\n",
       "      <td>0.534780</td>\n",
       "      <td>1</td>\n",
       "      <td>416</td>\n",
       "      <td>0</td>\n",
       "      <td>0.0</td>\n",
       "      <td>0.458236</td>\n",
       "    </tr>\n",
       "  </tbody>\n",
       "</table>\n",
       "</div>"
      ],
      "text/plain": [
       "    is_male   age  juv_fel_count  juv_misd_count  juv_other_count  \\\n",
       "0       1.0  26.0            0.0             0.0              0.0   \n",
       "1       1.0  26.0            0.0             0.0              0.0   \n",
       "2       1.0  26.0            0.0             7.0              0.0   \n",
       "3       1.0  26.0            0.0             0.0              0.0   \n",
       "4       1.0  62.0            0.0             0.0              0.0   \n",
       "5       1.0  31.0            0.0             1.0              7.0   \n",
       "6       1.0  31.0            0.0             1.0              0.0   \n",
       "7       1.0  31.0            0.0             1.0              0.0   \n",
       "8       1.0  31.0            0.0             1.0              0.0   \n",
       "9       1.0  31.0            0.0             6.0              0.0   \n",
       "10      1.0  62.0            0.0             0.0              7.0   \n",
       "11      1.0  59.0            0.0             0.0              0.0   \n",
       "12      1.0  54.0            0.0            10.0              0.0   \n",
       "13      1.0  27.0            0.0             0.0              0.0   \n",
       "14      1.0  72.0            8.0             0.0              0.0   \n",
       "15      1.0  21.0            0.0             0.0              7.0   \n",
       "16      1.0  21.0            0.0             0.0              2.0   \n",
       "17      1.0  21.0            0.0             0.0              6.0   \n",
       "18      1.0  21.0            0.0             0.0              0.0   \n",
       "19      1.0  20.0            0.0             0.0              0.0   \n",
       "\n",
       "    priors_count  days_b_screening_arrest  is_felony  is_black  y_pred  \\\n",
       "0            2.0                      0.0        0.0       1.0       0   \n",
       "1            0.0                      0.0        0.0       1.0       0   \n",
       "2            0.0                      0.0        0.0       1.0       0   \n",
       "3            0.0                      0.0        0.0       0.0       0   \n",
       "4           13.0                      0.0        0.0       0.0       0   \n",
       "5            9.0                      0.0        0.0       0.0       1   \n",
       "6           17.0                      0.2        0.0       0.0       1   \n",
       "7           16.0                      0.0        0.0       0.0       1   \n",
       "8           13.0                      0.0        0.0       0.0       1   \n",
       "9           30.0                      0.0        0.0       0.0       1   \n",
       "10           2.0                      0.0        1.0       1.0       0   \n",
       "11           2.0                     29.6        1.0       1.0       0   \n",
       "12           2.0                      0.0        1.0       1.0       0   \n",
       "13           2.0                    -27.1        1.0       1.0       0   \n",
       "14           2.0                      0.0        1.0       1.0       0   \n",
       "15          10.0                      0.0        0.0       0.0       1   \n",
       "16           1.0                      0.0        0.0       0.0       1   \n",
       "17          12.0                      0.0        0.0       0.0       1   \n",
       "18          18.0                      0.0        0.0       1.0       1   \n",
       "19           0.0                      0.0        1.0       0.0       1   \n",
       "\n",
       "    cf_y_pred_proba  cf_y_pred  original_index  original_is_black  \\\n",
       "0          0.497329          0            2681                  1   \n",
       "1          0.379920          0            2681                  1   \n",
       "2          0.383554          0            2681                  1   \n",
       "3          0.347113          0            2681                  1   \n",
       "4          0.497334          0            2681                  1   \n",
       "5          0.660983          1            2164                  0   \n",
       "6          0.627024          1            2164                  0   \n",
       "7          0.627024          1            2164                  0   \n",
       "8          0.612361          1            2164                  0   \n",
       "9          0.634496          1            2164                  0   \n",
       "10         0.414306          0            3875                  1   \n",
       "11         0.397811          0            3875                  1   \n",
       "12         0.411396          0            3875                  1   \n",
       "13         0.492098          0            3875                  1   \n",
       "14         0.382508          0            3875                  1   \n",
       "15         0.672581          1             416                  0   \n",
       "16         0.550107          1             416                  0   \n",
       "17         0.672902          1             416                  0   \n",
       "18         0.674230          1             416                  0   \n",
       "19         0.534780          1             416                  0   \n",
       "\n",
       "    original_y_pred  original_y_pred_proba  \n",
       "0               1.0               0.650344  \n",
       "1               1.0               0.650344  \n",
       "2               1.0               0.650344  \n",
       "3               1.0               0.650344  \n",
       "4               1.0               0.650344  \n",
       "5               0.0               0.401980  \n",
       "6               0.0               0.401980  \n",
       "7               0.0               0.401980  \n",
       "8               0.0               0.401980  \n",
       "9               0.0               0.401980  \n",
       "10              1.0               0.520566  \n",
       "11              1.0               0.520566  \n",
       "12              1.0               0.520566  \n",
       "13              1.0               0.520566  \n",
       "14              1.0               0.520566  \n",
       "15              0.0               0.458236  \n",
       "16              0.0               0.458236  \n",
       "17              0.0               0.458236  \n",
       "18              0.0               0.458236  \n",
       "19              0.0               0.458236  "
      ]
     },
     "execution_count": 7,
     "metadata": {},
     "output_type": "execute_result"
    }
   ],
   "source": [
    "cf_results_df.head(20)"
   ]
  },
  {
   "cell_type": "markdown",
   "metadata": {},
   "source": [
    "## General Analysis"
   ]
  },
  {
   "cell_type": "code",
   "execution_count": 8,
   "metadata": {},
   "outputs": [
    {
     "data": {
      "text/plain": [
       "0.4534354713040325"
      ]
     },
     "execution_count": 8,
     "metadata": {},
     "output_type": "execute_result"
    }
   ],
   "source": [
    "cf_results_df.original_y_pred_proba.mean()"
   ]
  },
  {
   "cell_type": "markdown",
   "metadata": {},
   "source": [
    "## Counterfactual fairness analysis"
   ]
  },
  {
   "cell_type": "code",
   "execution_count": 9,
   "metadata": {},
   "outputs": [
    {
     "name": "stdout",
     "output_type": "stream",
     "text": [
      "Number of cases with counterfactual samples using is_black: 370\n"
     ]
    }
   ],
   "source": [
    "# Count cases where is_black in counterfactuals is different from the original\n",
    "cf_with_is_black_change = cf_results_df[\n",
    "    cf_results_df[\"is_black\"] != cf_results_df[\"original_is_black\"]\n",
    "]\n",
    "num_cases_with_is_black_change = cf_with_is_black_change[\"original_index\"].nunique()\n",
    "print(\n",
    "    f\"Number of cases with counterfactual samples using is_black: {num_cases_with_is_black_change}\"\n",
    ")\n"
   ]
  },
  {
   "cell_type": "code",
   "execution_count": 10,
   "metadata": {},
   "outputs": [
    {
     "data": {
      "text/plain": [
       "1235"
      ]
     },
     "execution_count": 10,
     "metadata": {},
     "output_type": "execute_result"
    }
   ],
   "source": [
    "cf_results_df.original_index.nunique()"
   ]
  },
  {
   "cell_type": "code",
   "execution_count": 11,
   "metadata": {},
   "outputs": [
    {
     "data": {
      "text/plain": [
       "((420, 16), (6175, 16))"
      ]
     },
     "execution_count": 11,
     "metadata": {},
     "output_type": "execute_result"
    }
   ],
   "source": [
    "cf_with_is_black_change.shape, cf_results_df.shape"
   ]
  },
  {
   "cell_type": "code",
   "execution_count": 12,
   "metadata": {},
   "outputs": [
    {
     "data": {
      "text/plain": [
       "0.29959514170040485"
      ]
     },
     "execution_count": 12,
     "metadata": {},
     "output_type": "execute_result"
    }
   ],
   "source": [
    "370/1235"
   ]
  },
  {
   "cell_type": "code",
   "execution_count": 13,
   "metadata": {},
   "outputs": [
    {
     "data": {
      "text/plain": [
       "0.0680161943319838"
      ]
     },
     "execution_count": 13,
     "metadata": {},
     "output_type": "execute_result"
    }
   ],
   "source": [
    "420/6175"
   ]
  },
  {
   "cell_type": "code",
   "execution_count": 14,
   "metadata": {},
   "outputs": [
    {
     "data": {
      "text/html": [
       "<div>\n",
       "<style scoped>\n",
       "    .dataframe tbody tr th:only-of-type {\n",
       "        vertical-align: middle;\n",
       "    }\n",
       "\n",
       "    .dataframe tbody tr th {\n",
       "        vertical-align: top;\n",
       "    }\n",
       "\n",
       "    .dataframe thead th {\n",
       "        text-align: right;\n",
       "    }\n",
       "</style>\n",
       "<table border=\"1\" class=\"dataframe\">\n",
       "  <thead>\n",
       "    <tr style=\"text-align: right;\">\n",
       "      <th></th>\n",
       "      <th>is_male</th>\n",
       "      <th>age</th>\n",
       "      <th>juv_fel_count</th>\n",
       "      <th>juv_misd_count</th>\n",
       "      <th>juv_other_count</th>\n",
       "      <th>priors_count</th>\n",
       "      <th>days_b_screening_arrest</th>\n",
       "      <th>is_felony</th>\n",
       "      <th>is_black</th>\n",
       "      <th>y_pred</th>\n",
       "      <th>cf_y_pred_proba</th>\n",
       "      <th>cf_y_pred</th>\n",
       "      <th>original_index</th>\n",
       "      <th>original_is_black</th>\n",
       "      <th>original_y_pred</th>\n",
       "      <th>original_y_pred_proba</th>\n",
       "    </tr>\n",
       "  </thead>\n",
       "  <tbody>\n",
       "    <tr>\n",
       "      <th>3</th>\n",
       "      <td>1.0</td>\n",
       "      <td>26.0</td>\n",
       "      <td>0.0</td>\n",
       "      <td>0.0</td>\n",
       "      <td>0.0</td>\n",
       "      <td>0.0</td>\n",
       "      <td>0.0</td>\n",
       "      <td>0.0</td>\n",
       "      <td>0.0</td>\n",
       "      <td>0</td>\n",
       "      <td>0.347113</td>\n",
       "      <td>0</td>\n",
       "      <td>2681</td>\n",
       "      <td>1</td>\n",
       "      <td>1.0</td>\n",
       "      <td>0.650344</td>\n",
       "    </tr>\n",
       "    <tr>\n",
       "      <th>4</th>\n",
       "      <td>1.0</td>\n",
       "      <td>62.0</td>\n",
       "      <td>0.0</td>\n",
       "      <td>0.0</td>\n",
       "      <td>0.0</td>\n",
       "      <td>13.0</td>\n",
       "      <td>0.0</td>\n",
       "      <td>0.0</td>\n",
       "      <td>0.0</td>\n",
       "      <td>0</td>\n",
       "      <td>0.497334</td>\n",
       "      <td>0</td>\n",
       "      <td>2681</td>\n",
       "      <td>1</td>\n",
       "      <td>1.0</td>\n",
       "      <td>0.650344</td>\n",
       "    </tr>\n",
       "  </tbody>\n",
       "</table>\n",
       "</div>"
      ],
      "text/plain": [
       "   is_male   age  juv_fel_count  juv_misd_count  juv_other_count  \\\n",
       "3      1.0  26.0            0.0             0.0              0.0   \n",
       "4      1.0  62.0            0.0             0.0              0.0   \n",
       "\n",
       "   priors_count  days_b_screening_arrest  is_felony  is_black  y_pred  \\\n",
       "3           0.0                      0.0        0.0       0.0       0   \n",
       "4          13.0                      0.0        0.0       0.0       0   \n",
       "\n",
       "   cf_y_pred_proba  cf_y_pred  original_index  original_is_black  \\\n",
       "3         0.347113          0            2681                  1   \n",
       "4         0.497334          0            2681                  1   \n",
       "\n",
       "   original_y_pred  original_y_pred_proba  \n",
       "3              1.0               0.650344  \n",
       "4              1.0               0.650344  "
      ]
     },
     "execution_count": 14,
     "metadata": {},
     "output_type": "execute_result"
    }
   ],
   "source": [
    "cf_with_is_black_change.head(2)"
   ]
  },
  {
   "cell_type": "code",
   "execution_count": 15,
   "metadata": {},
   "outputs": [
    {
     "data": {
      "image/png": "[encoded data removed]",
      "text/plain": [
       "<Figure size 800x600 with 1 Axes>"
      ]
     },
     "metadata": {},
     "output_type": "display_data"
    }
   ],
   "source": [
    "cf_results_df[\"change_in_proba\"] = (\n",
    "    cf_results_df[\"cf_y_pred_proba\"] - cf_results_df[\"original_y_pred_proba\"]\n",
    ")\n",
    "\n",
    "# Plot distribution of changes in predicted probability\n",
    "plt.figure(figsize=(8, 6))\n",
    "sns.histplot(cf_results_df[\"change_in_proba\"], kde=True, bins=30)\n",
    "plt.title(\"Distribution of Changes in Predicted Probability\")\n",
    "plt.xlabel(\"Change in Predicted Probability\")\n",
    "plt.ylabel(\"Frequency\")\n",
    "plt.show()\n"
   ]
  },
  {
   "cell_type": "code",
   "execution_count": 16,
   "metadata": {},
   "outputs": [
    {
     "data": {
      "text/plain": [
       "original_is_black\n",
       "0    3105\n",
       "1    3070\n",
       "Name: count, dtype: int64"
      ]
     },
     "execution_count": 16,
     "metadata": {},
     "output_type": "execute_result"
    }
   ],
   "source": [
    "cf_results_df.original_is_black.value_counts()"
   ]
  },
  {
   "cell_type": "code",
   "execution_count": 24,
   "metadata": {},
   "outputs": [
    {
     "name": "stdout",
     "output_type": "stream",
     "text": [
      "mean of changed_is_black_to_1_df[\"change_in_proba\"]: 0.1706675420636716\n",
      "mean of changed_is_black_to_0_df[\"change_in_proba\"]: 0.013190076944413879\n"
     ]
    },
    {
     "data": {
      "application/vnd.plotly.v1+json": {
       "config": {
        "plotlyServerURL": "https://plot.ly"
       },
       "data": [
        {
         "alignmentgroup": "True",
         "bingroup": "x",
         "hovertemplate": "change_direction=0 to 1<br>Change in Predicted Probability=%{x}<br>count=%{y}<extra></extra>",
         "legendgroup": "0 to 1",
         "marker": {
          "color": "blue",
          "opacity": 0.3,
          "pattern": {
           "shape": ""
          }
         },
         "name": "0 to 1",
         "nbinsx": 30,
         "offsetgroup": "0 to 1",
         "orientation": "v",
         "showlegend": true,
         "type": "histogram",
         "x": [
          0.2159939706325531,
          0.308772474527359,
          0.3042348027229309,
          0.19712913036346436,
          0.2919849157333374,
          0.26340624690055847,
          0.26340624690055847,
          0.2160789668560028,
          0.3086237907409668,
          0.3137057423591614,
          0.17682895064353943,
          0.31902387738227844,
          0.31902387738227844,
          0.019586503505706787,
          0.22436603903770447,
          0.3251391053199768,
          0.3089981973171234,
          0.31071552634239197,
          -0.15690407156944275,
          0.1598772406578064,
          0.2525874972343445,
          0.303608238697052,
          0.2905603349208832,
          0.0896928608417511,
          0.3256778120994568,
          0.09690740704536438,
          0.18145468831062317,
          0.321455717086792,
          0.0862988829612732,
          0.24705275893211365,
          0.2662523686885834,
          0.18369871377944946,
          0.16456717252731323,
          0.21641594171524048,
          0.039142102003097534,
          0.039142102003097534,
          0.24344909191131592,
          0.3199072480201721,
          -0.1466631293296814,
          -0.08798608183860779,
          -0.03380650281906128,
          0.08400657773017883,
          0.09331667423248291,
          0.19320416450500488,
          0.10279440879821777,
          0.2204858660697937,
          0.3117578625679016,
          0.2963375449180603,
          0.31902387738227844,
          -0.010239839553833008,
          -0.1453443467617035,
          0.3107304871082306,
          -0.039762407541275024,
          0.16504785418510437,
          0.24897509813308716,
          0.10631147027015686,
          0.26688364148139954,
          0.22615063190460205,
          0.3049681484699249,
          0.024949103593826294,
          0.24098628759384155,
          -0.07730871438980103,
          -0.14787569642066956,
          -0.18045452237129211,
          0.1827380657196045,
          0.20042508840560913,
          0.3151039481163025,
          0.22615063190460205,
          0.16588738560676575,
          0.25083473324775696,
          -0.08580660820007324,
          0.30380886793136597,
          0.30380886793136597,
          0.06744077801704407,
          0.07549479603767395,
          0.22984755039215088,
          -0.09211614727973938,
          0.24615365266799927,
          -0.13825032114982605,
          0.2971968650817871,
          0.20102566480636597,
          0.3209126889705658,
          0.17111948132514954,
          0.04792773723602295,
          -0.15093740820884705,
          0.2858857214450836,
          -0.05916967988014221,
          0.27077585458755493,
          0.16354259848594666,
          0.22180750966072083,
          0.3046345114707947,
          0.3046345114707947,
          -0.13412880897521973,
          0.06830880045890808,
          0.3015671670436859,
          0.32408204674720764,
          -0.027028977870941162,
          0.3066018521785736,
          0.2227294147014618,
          0.25516197085380554,
          0.14770355820655823,
          0.31757593154907227,
          0.2681964933872223,
          0.29139474034309387,
          -0.12599459290504456,
          0.06695875525474548,
          0.06695875525474548,
          0.0566231906414032,
          0.3139868676662445,
          0.3139868676662445,
          0.28039276599884033,
          0.18118515610694885,
          0.2929280698299408,
          -0.07328823208808899,
          -0.014466643333435059,
          0.1102215051651001,
          0.2233124077320099,
          0.1445631980895996,
          0.08612185716629028,
          0.3139735758304596,
          0.20090395212173462,
          -0.07796633243560791,
          -0.05036187171936035,
          -0.13727128505706787,
          -0.07391461730003357,
          -0.13771966099739075,
          0.3137057423591614,
          0.09678179025650024,
          0.09282433986663818,
          0.318464070558548,
          0.31701329350471497,
          0.2928646504878998,
          0.20666268467903137,
          0.2137184739112854,
          0.2536962330341339,
          0.18389299511909485,
          0.09739136695861816,
          0.273063987493515,
          0.267994225025177,
          0.2503649890422821,
          0.24800747632980347,
          0.08171132206916809,
          0.05739668011665344,
          0.31552374362945557,
          0.3256778120994568,
          0.31090959906578064,
          0.07244539260864258,
          0.31902387738227844,
          0.023331016302108765,
          0.1846904158592224,
          0.2163284718990326,
          0.2563945949077606,
          -0.1357220709323883,
          0.2703988254070282,
          0.08277115225791931,
          0.020089536905288696,
          0.3147844970226288,
          0.3147844970226288,
          -0.1819705069065094,
          0.2370879352092743,
          -0.03380650281906128,
          0.2754335105419159,
          0.31701329350471497,
          0.3068450689315796,
          0.020089536905288696,
          0.2754335105419159,
          0.3253408372402191,
          0.09583920240402222,
          0.24570530652999878,
          -0.22858619689941406,
          0.21662938594818115,
          0.19612735509872437,
          0.19188398122787476,
          0.3068094849586487,
          0.22180750966072083,
          -0.07031884789466858,
          0.2621396780014038,
          0.3218626379966736,
          0.30079418420791626,
          0.2664608061313629,
          0.24289709329605103,
          0.2627881169319153,
          0.09000340104103088,
          0.05252942442893982,
          0.20489871501922607,
          0.2448042929172516,
          0.31208929419517517,
          0.24909865856170654,
          0.2897292673587799,
          0.20069384574890137,
          0.028849363327026367,
          0.17808863520622253,
          0.28687700629234314,
          -0.08763387799263,
          0.297920286655426,
          0.26790744066238403,
          0.32377180457115173,
          0.22853422164916992,
          0.026628434658050537,
          0.026628434658050537,
          0.2454536259174347,
          0.2980216145515442,
          0.26107677817344666,
          0.16985630989074707,
          -0.14410066604614258,
          0.2662523686885834,
          0.2403843104839325
         ],
         "xaxis": "x",
         "yaxis": "y"
        },
        {
         "alignmentgroup": "True",
         "bingroup": "x",
         "hovertemplate": "change_direction=1 to 0<br>Change in Predicted Probability=%{x}<br>count=%{y}<extra></extra>",
         "legendgroup": "1 to 0",
         "marker": {
          "color": "red",
          "opacity": 0.3,
          "pattern": {
           "shape": ""
          }
         },
         "name": "1 to 0",
         "nbinsx": 30,
         "offsetgroup": "1 to 0",
         "orientation": "v",
         "showlegend": true,
         "type": "histogram",
         "x": [
          -0.3032307028770447,
          -0.15300995111465454,
          0.17311015725135803,
          -0.07523807883262634,
          -0.019910305738449097,
          0.12746748328208923,
          -0.12132957577705383,
          -0.0955660343170166,
          0.22715795040130615,
          0.30283987522125244,
          0.2782137095928192,
          0.2643316686153412,
          -0.052936285734176636,
          -0.08616003394126892,
          -0.1358819603919983,
          -0.1899949312210083,
          -0.10631763935089111,
          0.2558591067790985,
          0.05075347423553467,
          0.12718749046325684,
          -0.07741910219192505,
          0.1370774507522583,
          -0.2772659957408905,
          0.011237561702728271,
          0.2256215214729309,
          -0.13030406832695007,
          0.2654929459095001,
          -0.2055138349533081,
          0.15131643414497375,
          -0.21276596188545227,
          -0.21442833542823792,
          -0.062001824378967285,
          0.10288339853286743,
          0.25264206528663635,
          -0.10976243019104004,
          0.1190890371799469,
          -0.24575352668762207,
          0.2927583158016205,
          -0.11990457773208618,
          0.18520408868789673,
          0.10794591903686523,
          -0.1688801646232605,
          -0.2280074656009674,
          -0.06429663300514221,
          0.2631992995738983,
          0.18229243159294128,
          -0.27814897894859314,
          0.28726503252983093,
          0.008044213056564331,
          0.2258175015449524,
          -0.06797090172767639,
          -0.0996529757976532,
          0.11717197299003601,
          0.11717197299003601,
          0.18953758478164673,
          -0.18978282809257507,
          -0.20333796739578247,
          0.22035852074623108,
          0.052296191453933716,
          -0.023576587438583374,
          0.12927138805389404,
          -0.15886911749839783,
          -0.1753368377685547,
          -0.20584192872047424,
          -0.17770090699195862,
          -0.16735976934432983,
          0.2507016062736511,
          0.1661577820777893,
          0.19330570101737976,
          -0.08859488368034363,
          0.17590448260307312,
          0.17590448260307312,
          -0.18074899911880493,
          -0.21705681085586548,
          -0.28932633996009827,
          0.1796364188194275,
          -0.1272704005241394,
          -0.006779700517654419,
          0.09585601091384888,
          0.13912594318389893,
          0.22339674830436707,
          0.15293291211128235,
          0.11960729956626892,
          0.27391788363456726,
          0.18089553713798523,
          -0.12346640229225159,
          -0.07654225826263428,
          -0.09504306316375732,
          -0.19193750619888306,
          -0.09095215797424316,
          0.0839327871799469,
          0.19907188415527344,
          -0.06668931245803833,
          0.08911144733428955,
          0.18089446425437927,
          -0.12369617819786072,
          0.2079901099205017,
          -0.1411607265472412,
          -0.19083774089813232,
          -0.19983890652656555,
          -0.12133052945137024,
          -0.11797952651977539,
          0.07751849293708801,
          -0.20049485564231873,
          0.17121264338493347,
          -0.19004961848258972,
          0.28956714272499084,
          0.28956714272499084,
          -0.19616356492042542,
          0.259385883808136,
          0.28244224190711975,
          0.26614826917648315,
          -0.04251062870025635,
          -0.17363938689231873,
          -0.062186211347579956,
          -0.21163731813430786,
          -0.2576301097869873,
          -0.08085036277770996,
          -0.11344876885414124,
          -0.2946781516075134,
          0.24717819690704346,
          -0.0630868673324585,
          -0.05928608775138855,
          0.26863187551498413,
          0.2595416009426117,
          0.17724496126174927,
          -0.06433612108230591,
          0.22983065247535706,
          0.22983065247535706,
          0.2404664158821106,
          -0.04275384545326233,
          0.15296143293380737,
          0.29582977294921875,
          0.29582977294921875,
          -0.25712716579437256,
          0.23508840799331665,
          -0.16280698776245117,
          0.22529062628746033,
          -0.07432341575622559,
          -0.02136993408203125,
          0.10411939024925232,
          -0.11324825882911682,
          -0.11324825882911682,
          -0.035741060972213745,
          -0.06450778245925903,
          -0.09243273735046387,
          -0.08085381984710693,
          -0.07259547710418701,
          0.12679004669189453,
          0.0529058575630188,
          0.20789974927902222,
          -0.04291209578514099,
          0.12902560830116272,
          -0.04879879951477051,
          -0.04499289393424988,
          -0.19278639554977417,
          -0.04091885685920715,
          -0.02612653374671936,
          0.1404649019241333,
          -0.10280629992485046,
          0.1575632095336914,
          0.1297932267189026,
          -0.065768301486969,
          -0.08995881676673889,
          0.2241246998310089,
          -0.03949439525604248,
          0.20564180612564087,
          0.2202974259853363,
          -0.2578061819076538,
          -0.258785218000412,
          0.20690599083900452,
          -0.2546355128288269,
          -0.1067247986793518,
          -0.2783881723880768,
          -0.06028473377227783,
          0.09159111976623535,
          -0.07297024130821228,
          -0.0311620831489563,
          -0.04303461313247681,
          0.05486169457435608,
          0.04395097494125366,
          0.14296823740005493,
          -0.06435278058052063,
          -0.14011341333389282,
          0.26234033703804016,
          -0.06416910886764526,
          0.18544474244117737,
          0.14790305495262146,
          -0.1309790015220642,
          0.14899307489395142,
          0.1251092553138733,
          -0.3059442937374115,
          -0.26381462812423706,
          -0.20574399828910828,
          0.18013709783554077,
          -0.041757553815841675,
          0.008713632822036743,
          -0.25111204385757446,
          0.28956714272499084,
          0.16770941019058228,
          -0.1191970705986023,
          -0.2188047170639038,
          0.2847236394882202,
          -0.1658727526664734,
          -0.1698996126651764,
          0.18058627843856812,
          -0.13857507705688477,
          0.29686084389686584,
          0.26147300004959106,
          -0.14964357018470764,
          0.2662773132324219,
          0.2246289849281311,
          -0.21035978198051453
         ],
         "xaxis": "x",
         "yaxis": "y"
        }
       ],
       "layout": {
        "barmode": "relative",
        "height": 600,
        "legend": {
         "title": {
          "text": "Change Direction"
         },
         "tracegroupgap": 0
        },
        "template": {
         "data": {
          "bar": [
           {
            "error_x": {
             "color": "#2a3f5f"
            },
            "error_y": {
             "color": "#2a3f5f"
            },
            "marker": {
             "line": {
              "color": "#E5ECF6",
              "width": 0.5
             },
             "pattern": {
              "fillmode": "overlay",
              "size": 10,
              "solidity": 0.2
             }
            },
            "type": "bar"
           }
          ],
          "barpolar": [
           {
            "marker": {
             "line": {
              "color": "#E5ECF6",
              "width": 0.5
             },
             "pattern": {
              "fillmode": "overlay",
              "size": 10,
              "solidity": 0.2
             }
            },
            "type": "barpolar"
           }
          ],
          "carpet": [
           {
            "aaxis": {
             "endlinecolor": "#2a3f5f",
             "gridcolor": "white",
             "linecolor": "white",
             "minorgridcolor": "white",
             "startlinecolor": "#2a3f5f"
            },
            "baxis": {
             "endlinecolor": "#2a3f5f",
             "gridcolor": "white",
             "linecolor": "white",
             "minorgridcolor": "white",
             "startlinecolor": "#2a3f5f"
            },
            "type": "carpet"
           }
          ],
          "choropleth": [
           {
            "colorbar": {
             "outlinewidth": 0,
             "ticks": ""
            },
            "type": "choropleth"
           }
          ],
          "contour": [
           {
            "colorbar": {
             "outlinewidth": 0,
             "ticks": ""
            },
            "colorscale": [
             [
              0,
              "#0d0887"
             ],
             [
              0.1111111111111111,
              "#46039f"
             ],
             [
              0.2222222222222222,
              "#7201a8"
             ],
             [
              0.3333333333333333,
              "#9c179e"
             ],
             [
              0.4444444444444444,
              "#bd3786"
             ],
             [
              0.5555555555555556,
              "#d8576b"
             ],
             [
              0.6666666666666666,
              "#ed7953"
             ],
             [
              0.7777777777777778,
              "#fb9f3a"
             ],
             [
              0.8888888888888888,
              "#fdca26"
             ],
             [
              1,
              "#f0f921"
             ]
            ],
            "type": "contour"
           }
          ],
          "contourcarpet": [
           {
            "colorbar": {
             "outlinewidth": 0,
             "ticks": ""
            },
            "type": "contourcarpet"
           }
          ],
          "heatmap": [
           {
            "colorbar": {
             "outlinewidth": 0,
             "ticks": ""
            },
            "colorscale": [
             [
              0,
              "#0d0887"
             ],
             [
              0.1111111111111111,
              "#46039f"
             ],
             [
              0.2222222222222222,
              "#7201a8"
             ],
             [
              0.3333333333333333,
              "#9c179e"
             ],
             [
              0.4444444444444444,
              "#bd3786"
             ],
             [
              0.5555555555555556,
              "#d8576b"
             ],
             [
              0.6666666666666666,
              "#ed7953"
             ],
             [
              0.7777777777777778,
              "#fb9f3a"
             ],
             [
              0.8888888888888888,
              "#fdca26"
             ],
             [
              1,
              "#f0f921"
             ]
            ],
            "type": "heatmap"
           }
          ],
          "heatmapgl": [
           {
            "colorbar": {
             "outlinewidth": 0,
             "ticks": ""
            },
            "colorscale": [
             [
              0,
              "#0d0887"
             ],
             [
              0.1111111111111111,
              "#46039f"
             ],
             [
              0.2222222222222222,
              "#7201a8"
             ],
             [
              0.3333333333333333,
              "#9c179e"
             ],
             [
              0.4444444444444444,
              "#bd3786"
             ],
             [
              0.5555555555555556,
              "#d8576b"
             ],
             [
              0.6666666666666666,
              "#ed7953"
             ],
             [
              0.7777777777777778,
              "#fb9f3a"
             ],
             [
              0.8888888888888888,
              "#fdca26"
             ],
             [
              1,
              "#f0f921"
             ]
            ],
            "type": "heatmapgl"
           }
          ],
          "histogram": [
           {
            "marker": {
             "pattern": {
              "fillmode": "overlay",
              "size": 10,
              "solidity": 0.2
             }
            },
            "type": "histogram"
           }
          ],
          "histogram2d": [
           {
            "colorbar": {
             "outlinewidth": 0,
             "ticks": ""
            },
            "colorscale": [
             [
              0,
              "#0d0887"
             ],
             [
              0.1111111111111111,
              "#46039f"
             ],
             [
              0.2222222222222222,
              "#7201a8"
             ],
             [
              0.3333333333333333,
              "#9c179e"
             ],
             [
              0.4444444444444444,
              "#bd3786"
             ],
             [
              0.5555555555555556,
              "#d8576b"
             ],
             [
              0.6666666666666666,
              "#ed7953"
             ],
             [
              0.7777777777777778,
              "#fb9f3a"
             ],
             [
              0.8888888888888888,
              "#fdca26"
             ],
             [
              1,
              "#f0f921"
             ]
            ],
            "type": "histogram2d"
           }
          ],
          "histogram2dcontour": [
           {
            "colorbar": {
             "outlinewidth": 0,
             "ticks": ""
            },
            "colorscale": [
             [
              0,
              "#0d0887"
             ],
             [
              0.1111111111111111,
              "#46039f"
             ],
             [
              0.2222222222222222,
              "#7201a8"
             ],
             [
              0.3333333333333333,
              "#9c179e"
             ],
             [
              0.4444444444444444,
              "#bd3786"
             ],
             [
              0.5555555555555556,
              "#d8576b"
             ],
             [
              0.6666666666666666,
              "#ed7953"
             ],
             [
              0.7777777777777778,
              "#fb9f3a"
             ],
             [
              0.8888888888888888,
              "#fdca26"
             ],
             [
              1,
              "#f0f921"
             ]
            ],
            "type": "histogram2dcontour"
           }
          ],
          "mesh3d": [
           {
            "colorbar": {
             "outlinewidth": 0,
             "ticks": ""
            },
            "type": "mesh3d"
           }
          ],
          "parcoords": [
           {
            "line": {
             "colorbar": {
              "outlinewidth": 0,
              "ticks": ""
             }
            },
            "type": "parcoords"
           }
          ],
          "pie": [
           {
            "automargin": true,
            "type": "pie"
           }
          ],
          "scatter": [
           {
            "fillpattern": {
             "fillmode": "overlay",
             "size": 10,
             "solidity": 0.2
            },
            "type": "scatter"
           }
          ],
          "scatter3d": [
           {
            "line": {
             "colorbar": {
              "outlinewidth": 0,
              "ticks": ""
             }
            },
            "marker": {
             "colorbar": {
              "outlinewidth": 0,
              "ticks": ""
             }
            },
            "type": "scatter3d"
           }
          ],
          "scattercarpet": [
           {
            "marker": {
             "colorbar": {
              "outlinewidth": 0,
              "ticks": ""
             }
            },
            "type": "scattercarpet"
           }
          ],
          "scattergeo": [
           {
            "marker": {
             "colorbar": {
              "outlinewidth": 0,
              "ticks": ""
             }
            },
            "type": "scattergeo"
           }
          ],
          "scattergl": [
           {
            "marker": {
             "colorbar": {
              "outlinewidth": 0,
              "ticks": ""
             }
            },
            "type": "scattergl"
           }
          ],
          "scattermapbox": [
           {
            "marker": {
             "colorbar": {
              "outlinewidth": 0,
              "ticks": ""
             }
            },
            "type": "scattermapbox"
           }
          ],
          "scatterpolar": [
           {
            "marker": {
             "colorbar": {
              "outlinewidth": 0,
              "ticks": ""
             }
            },
            "type": "scatterpolar"
           }
          ],
          "scatterpolargl": [
           {
            "marker": {
             "colorbar": {
              "outlinewidth": 0,
              "ticks": ""
             }
            },
            "type": "scatterpolargl"
           }
          ],
          "scatterternary": [
           {
            "marker": {
             "colorbar": {
              "outlinewidth": 0,
              "ticks": ""
             }
            },
            "type": "scatterternary"
           }
          ],
          "surface": [
           {
            "colorbar": {
             "outlinewidth": 0,
             "ticks": ""
            },
            "colorscale": [
             [
              0,
              "#0d0887"
             ],
             [
              0.1111111111111111,
              "#46039f"
             ],
             [
              0.2222222222222222,
              "#7201a8"
             ],
             [
              0.3333333333333333,
              "#9c179e"
             ],
             [
              0.4444444444444444,
              "#bd3786"
             ],
             [
              0.5555555555555556,
              "#d8576b"
             ],
             [
              0.6666666666666666,
              "#ed7953"
             ],
             [
              0.7777777777777778,
              "#fb9f3a"
             ],
             [
              0.8888888888888888,
              "#fdca26"
             ],
             [
              1,
              "#f0f921"
             ]
            ],
            "type": "surface"
           }
          ],
          "table": [
           {
            "cells": {
             "fill": {
              "color": "#EBF0F8"
             },
             "line": {
              "color": "white"
             }
            },
            "header": {
             "fill": {
              "color": "#C8D4E3"
             },
             "line": {
              "color": "white"
             }
            },
            "type": "table"
           }
          ]
         },
         "layout": {
          "annotationdefaults": {
           "arrowcolor": "#2a3f5f",
           "arrowhead": 0,
           "arrowwidth": 1
          },
          "autotypenumbers": "strict",
          "coloraxis": {
           "colorbar": {
            "outlinewidth": 0,
            "ticks": ""
           }
          },
          "colorscale": {
           "diverging": [
            [
             0,
             "#8e0152"
            ],
            [
             0.1,
             "#c51b7d"
            ],
            [
             0.2,
             "#de77ae"
            ],
            [
             0.3,
             "#f1b6da"
            ],
            [
             0.4,
             "#fde0ef"
            ],
            [
             0.5,
             "#f7f7f7"
            ],
            [
             0.6,
             "#e6f5d0"
            ],
            [
             0.7,
             "#b8e186"
            ],
            [
             0.8,
             "#7fbc41"
            ],
            [
             0.9,
             "#4d9221"
            ],
            [
             1,
             "#276419"
            ]
           ],
           "sequential": [
            [
             0,
             "#0d0887"
            ],
            [
             0.1111111111111111,
             "#46039f"
            ],
            [
             0.2222222222222222,
             "#7201a8"
            ],
            [
             0.3333333333333333,
             "#9c179e"
            ],
            [
             0.4444444444444444,
             "#bd3786"
            ],
            [
             0.5555555555555556,
             "#d8576b"
            ],
            [
             0.6666666666666666,
             "#ed7953"
            ],
            [
             0.7777777777777778,
             "#fb9f3a"
            ],
            [
             0.8888888888888888,
             "#fdca26"
            ],
            [
             1,
             "#f0f921"
            ]
           ],
           "sequentialminus": [
            [
             0,
             "#0d0887"
            ],
            [
             0.1111111111111111,
             "#46039f"
            ],
            [
             0.2222222222222222,
             "#7201a8"
            ],
            [
             0.3333333333333333,
             "#9c179e"
            ],
            [
             0.4444444444444444,
             "#bd3786"
            ],
            [
             0.5555555555555556,
             "#d8576b"
            ],
            [
             0.6666666666666666,
             "#ed7953"
            ],
            [
             0.7777777777777778,
             "#fb9f3a"
            ],
            [
             0.8888888888888888,
             "#fdca26"
            ],
            [
             1,
             "#f0f921"
            ]
           ]
          },
          "colorway": [
           "#636efa",
           "#EF553B",
           "#00cc96",
           "#ab63fa",
           "#FFA15A",
           "#19d3f3",
           "#FF6692",
           "#B6E880",
           "#FF97FF",
           "#FECB52"
          ],
          "font": {
           "color": "#2a3f5f"
          },
          "geo": {
           "bgcolor": "white",
           "lakecolor": "white",
           "landcolor": "#E5ECF6",
           "showlakes": true,
           "showland": true,
           "subunitcolor": "white"
          },
          "hoverlabel": {
           "align": "left"
          },
          "hovermode": "closest",
          "mapbox": {
           "style": "light"
          },
          "paper_bgcolor": "white",
          "plot_bgcolor": "#E5ECF6",
          "polar": {
           "angularaxis": {
            "gridcolor": "white",
            "linecolor": "white",
            "ticks": ""
           },
           "bgcolor": "#E5ECF6",
           "radialaxis": {
            "gridcolor": "white",
            "linecolor": "white",
            "ticks": ""
           }
          },
          "scene": {
           "xaxis": {
            "backgroundcolor": "#E5ECF6",
            "gridcolor": "white",
            "gridwidth": 2,
            "linecolor": "white",
            "showbackground": true,
            "ticks": "",
            "zerolinecolor": "white"
           },
           "yaxis": {
            "backgroundcolor": "#E5ECF6",
            "gridcolor": "white",
            "gridwidth": 2,
            "linecolor": "white",
            "showbackground": true,
            "ticks": "",
            "zerolinecolor": "white"
           },
           "zaxis": {
            "backgroundcolor": "#E5ECF6",
            "gridcolor": "white",
            "gridwidth": 2,
            "linecolor": "white",
            "showbackground": true,
            "ticks": "",
            "zerolinecolor": "white"
           }
          },
          "shapedefaults": {
           "line": {
            "color": "#2a3f5f"
           }
          },
          "ternary": {
           "aaxis": {
            "gridcolor": "white",
            "linecolor": "white",
            "ticks": ""
           },
           "baxis": {
            "gridcolor": "white",
            "linecolor": "white",
            "ticks": ""
           },
           "bgcolor": "#E5ECF6",
           "caxis": {
            "gridcolor": "white",
            "linecolor": "white",
            "ticks": ""
           }
          },
          "title": {
           "x": 0.05
          },
          "xaxis": {
           "automargin": true,
           "gridcolor": "white",
           "linecolor": "white",
           "ticks": "",
           "title": {
            "standoff": 15
           },
           "zerolinecolor": "white",
           "zerolinewidth": 2
          },
          "yaxis": {
           "automargin": true,
           "gridcolor": "white",
           "linecolor": "white",
           "ticks": "",
           "title": {
            "standoff": 15
           },
           "zerolinecolor": "white",
           "zerolinewidth": 2
          }
         }
        },
        "title": {
         "text": "Distribution of Changes in Predicted Probability When `is_black` Changed"
        },
        "width": 1000,
        "xaxis": {
         "anchor": "y",
         "domain": [
          0,
          1
         ],
         "title": {
          "text": "Change in Predicted Probability"
         }
        },
        "yaxis": {
         "anchor": "x",
         "domain": [
          0,
          1
         ],
         "title": {
          "text": "Frequency"
         }
        }
       }
      },
      "text/html": [
       "<div>                            <div id=\"c08a1b2f-2f6e-4200-82f8-b49dcae36150\" class=\"plotly-graph-div\" style=\"height:600px; width:1000px;\"></div>            <script type=\"text/javascript\">                require([\"plotly\"], function(Plotly) {                    window.PLOTLYENV=window.PLOTLYENV || {};                                    if (document.getElementById(\"c08a1b2f-2f6e-4200-82f8-b49dcae36150\")) {                    Plotly.newPlot(                        \"c08a1b2f-2f6e-4200-82f8-b49dcae36150\",                        [{\"alignmentgroup\":\"True\",\"bingroup\":\"x\",\"hovertemplate\":\"change_direction=0 to 1\\u003cbr\\u003eChange in Predicted Probability=%{x}\\u003cbr\\u003ecount=%{y}\\u003cextra\\u003e\\u003c\\u002fextra\\u003e\",\"legendgroup\":\"0 to 1\",\"marker\":{\"color\":\"blue\",\"pattern\":{\"shape\":\"\"},\"opacity\":0.3},\"name\":\"0 to 1\",\"nbinsx\":30,\"offsetgroup\":\"0 to 1\",\"orientation\":\"v\",\"showlegend\":true,\"x\":[0.2159939706325531,0.308772474527359,0.3042348027229309,0.19712913036346436,0.2919849157333374,0.26340624690055847,0.26340624690055847,0.2160789668560028,0.3086237907409668,0.3137057423591614,0.17682895064353943,0.31902387738227844,0.31902387738227844,0.019586503505706787,0.22436603903770447,0.3251391053199768,0.3089981973171234,0.31071552634239197,-0.15690407156944275,0.1598772406578064,0.2525874972343445,0.303608238697052,0.2905603349208832,0.0896928608417511,0.3256778120994568,0.09690740704536438,0.18145468831062317,0.321455717086792,0.0862988829612732,0.24705275893211365,0.2662523686885834,0.18369871377944946,0.16456717252731323,0.21641594171524048,0.039142102003097534,0.039142102003097534,0.24344909191131592,0.3199072480201721,-0.1466631293296814,-0.08798608183860779,-0.03380650281906128,0.08400657773017883,0.09331667423248291,0.19320416450500488,0.10279440879821777,0.2204858660697937,0.3117578625679016,0.2963375449180603,0.31902387738227844,-0.010239839553833008,-0.1453443467617035,0.3107304871082306,-0.039762407541275024,0.16504785418510437,0.24897509813308716,0.10631147027015686,0.26688364148139954,0.22615063190460205,0.3049681484699249,0.024949103593826294,0.24098628759384155,-0.07730871438980103,-0.14787569642066956,-0.18045452237129211,0.1827380657196045,0.20042508840560913,0.3151039481163025,0.22615063190460205,0.16588738560676575,0.25083473324775696,-0.08580660820007324,0.30380886793136597,0.30380886793136597,0.06744077801704407,0.07549479603767395,0.22984755039215088,-0.09211614727973938,0.24615365266799927,-0.13825032114982605,0.2971968650817871,0.20102566480636597,0.3209126889705658,0.17111948132514954,0.04792773723602295,-0.15093740820884705,0.2858857214450836,-0.05916967988014221,0.27077585458755493,0.16354259848594666,0.22180750966072083,0.3046345114707947,0.3046345114707947,-0.13412880897521973,0.06830880045890808,0.3015671670436859,0.32408204674720764,-0.027028977870941162,0.3066018521785736,0.2227294147014618,0.25516197085380554,0.14770355820655823,0.31757593154907227,0.2681964933872223,0.29139474034309387,-0.12599459290504456,0.06695875525474548,0.06695875525474548,0.0566231906414032,0.3139868676662445,0.3139868676662445,0.28039276599884033,0.18118515610694885,0.2929280698299408,-0.07328823208808899,-0.014466643333435059,0.1102215051651001,0.2233124077320099,0.1445631980895996,0.08612185716629028,0.3139735758304596,0.20090395212173462,-0.07796633243560791,-0.05036187171936035,-0.13727128505706787,-0.07391461730003357,-0.13771966099739075,0.3137057423591614,0.09678179025650024,0.09282433986663818,0.318464070558548,0.31701329350471497,0.2928646504878998,0.20666268467903137,0.2137184739112854,0.2536962330341339,0.18389299511909485,0.09739136695861816,0.273063987493515,0.267994225025177,0.2503649890422821,0.24800747632980347,0.08171132206916809,0.05739668011665344,0.31552374362945557,0.3256778120994568,0.31090959906578064,0.07244539260864258,0.31902387738227844,0.023331016302108765,0.1846904158592224,0.2163284718990326,0.2563945949077606,-0.1357220709323883,0.2703988254070282,0.08277115225791931,0.020089536905288696,0.3147844970226288,0.3147844970226288,-0.1819705069065094,0.2370879352092743,-0.03380650281906128,0.2754335105419159,0.31701329350471497,0.3068450689315796,0.020089536905288696,0.2754335105419159,0.3253408372402191,0.09583920240402222,0.24570530652999878,-0.22858619689941406,0.21662938594818115,0.19612735509872437,0.19188398122787476,0.3068094849586487,0.22180750966072083,-0.07031884789466858,0.2621396780014038,0.3218626379966736,0.30079418420791626,0.2664608061313629,0.24289709329605103,0.2627881169319153,0.09000340104103088,0.05252942442893982,0.20489871501922607,0.2448042929172516,0.31208929419517517,0.24909865856170654,0.2897292673587799,0.20069384574890137,0.028849363327026367,0.17808863520622253,0.28687700629234314,-0.08763387799263,0.297920286655426,0.26790744066238403,0.32377180457115173,0.22853422164916992,0.026628434658050537,0.026628434658050537,0.2454536259174347,0.2980216145515442,0.26107677817344666,0.16985630989074707,-0.14410066604614258,0.2662523686885834,0.2403843104839325],\"xaxis\":\"x\",\"yaxis\":\"y\",\"type\":\"histogram\"},{\"alignmentgroup\":\"True\",\"bingroup\":\"x\",\"hovertemplate\":\"change_direction=1 to 0\\u003cbr\\u003eChange in Predicted Probability=%{x}\\u003cbr\\u003ecount=%{y}\\u003cextra\\u003e\\u003c\\u002fextra\\u003e\",\"legendgroup\":\"1 to 0\",\"marker\":{\"color\":\"red\",\"pattern\":{\"shape\":\"\"},\"opacity\":0.3},\"name\":\"1 to 0\",\"nbinsx\":30,\"offsetgroup\":\"1 to 0\",\"orientation\":\"v\",\"showlegend\":true,\"x\":[-0.3032307028770447,-0.15300995111465454,0.17311015725135803,-0.07523807883262634,-0.019910305738449097,0.12746748328208923,-0.12132957577705383,-0.0955660343170166,0.22715795040130615,0.30283987522125244,0.2782137095928192,0.2643316686153412,-0.052936285734176636,-0.08616003394126892,-0.1358819603919983,-0.1899949312210083,-0.10631763935089111,0.2558591067790985,0.05075347423553467,0.12718749046325684,-0.07741910219192505,0.1370774507522583,-0.2772659957408905,0.011237561702728271,0.2256215214729309,-0.13030406832695007,0.2654929459095001,-0.2055138349533081,0.15131643414497375,-0.21276596188545227,-0.21442833542823792,-0.062001824378967285,0.10288339853286743,0.25264206528663635,-0.10976243019104004,0.1190890371799469,-0.24575352668762207,0.2927583158016205,-0.11990457773208618,0.18520408868789673,0.10794591903686523,-0.1688801646232605,-0.2280074656009674,-0.06429663300514221,0.2631992995738983,0.18229243159294128,-0.27814897894859314,0.28726503252983093,0.008044213056564331,0.2258175015449524,-0.06797090172767639,-0.0996529757976532,0.11717197299003601,0.11717197299003601,0.18953758478164673,-0.18978282809257507,-0.20333796739578247,0.22035852074623108,0.052296191453933716,-0.023576587438583374,0.12927138805389404,-0.15886911749839783,-0.1753368377685547,-0.20584192872047424,-0.17770090699195862,-0.16735976934432983,0.2507016062736511,0.1661577820777893,0.19330570101737976,-0.08859488368034363,0.17590448260307312,0.17590448260307312,-0.18074899911880493,-0.21705681085586548,-0.28932633996009827,0.1796364188194275,-0.1272704005241394,-0.006779700517654419,0.09585601091384888,0.13912594318389893,0.22339674830436707,0.15293291211128235,0.11960729956626892,0.27391788363456726,0.18089553713798523,-0.12346640229225159,-0.07654225826263428,-0.09504306316375732,-0.19193750619888306,-0.09095215797424316,0.0839327871799469,0.19907188415527344,-0.06668931245803833,0.08911144733428955,0.18089446425437927,-0.12369617819786072,0.2079901099205017,-0.1411607265472412,-0.19083774089813232,-0.19983890652656555,-0.12133052945137024,-0.11797952651977539,0.07751849293708801,-0.20049485564231873,0.17121264338493347,-0.19004961848258972,0.28956714272499084,0.28956714272499084,-0.19616356492042542,0.259385883808136,0.28244224190711975,0.26614826917648315,-0.04251062870025635,-0.17363938689231873,-0.062186211347579956,-0.21163731813430786,-0.2576301097869873,-0.08085036277770996,-0.11344876885414124,-0.2946781516075134,0.24717819690704346,-0.0630868673324585,-0.05928608775138855,0.26863187551498413,0.2595416009426117,0.17724496126174927,-0.06433612108230591,0.22983065247535706,0.22983065247535706,0.2404664158821106,-0.04275384545326233,0.15296143293380737,0.29582977294921875,0.29582977294921875,-0.25712716579437256,0.23508840799331665,-0.16280698776245117,0.22529062628746033,-0.07432341575622559,-0.02136993408203125,0.10411939024925232,-0.11324825882911682,-0.11324825882911682,-0.035741060972213745,-0.06450778245925903,-0.09243273735046387,-0.08085381984710693,-0.07259547710418701,0.12679004669189453,0.0529058575630188,0.20789974927902222,-0.04291209578514099,0.12902560830116272,-0.04879879951477051,-0.04499289393424988,-0.19278639554977417,-0.04091885685920715,-0.02612653374671936,0.1404649019241333,-0.10280629992485046,0.1575632095336914,0.1297932267189026,-0.065768301486969,-0.08995881676673889,0.2241246998310089,-0.03949439525604248,0.20564180612564087,0.2202974259853363,-0.2578061819076538,-0.258785218000412,0.20690599083900452,-0.2546355128288269,-0.1067247986793518,-0.2783881723880768,-0.06028473377227783,0.09159111976623535,-0.07297024130821228,-0.0311620831489563,-0.04303461313247681,0.05486169457435608,0.04395097494125366,0.14296823740005493,-0.06435278058052063,-0.14011341333389282,0.26234033703804016,-0.06416910886764526,0.18544474244117737,0.14790305495262146,-0.1309790015220642,0.14899307489395142,0.1251092553138733,-0.3059442937374115,-0.26381462812423706,-0.20574399828910828,0.18013709783554077,-0.041757553815841675,0.008713632822036743,-0.25111204385757446,0.28956714272499084,0.16770941019058228,-0.1191970705986023,-0.2188047170639038,0.2847236394882202,-0.1658727526664734,-0.1698996126651764,0.18058627843856812,-0.13857507705688477,0.29686084389686584,0.26147300004959106,-0.14964357018470764,0.2662773132324219,0.2246289849281311,-0.21035978198051453],\"xaxis\":\"x\",\"yaxis\":\"y\",\"type\":\"histogram\"}],                        {\"template\":{\"data\":{\"histogram2dcontour\":[{\"type\":\"histogram2dcontour\",\"colorbar\":{\"outlinewidth\":0,\"ticks\":\"\"},\"colorscale\":[[0.0,\"#0d0887\"],[0.1111111111111111,\"#46039f\"],[0.2222222222222222,\"#7201a8\"],[0.3333333333333333,\"#9c179e\"],[0.4444444444444444,\"#bd3786\"],[0.5555555555555556,\"#d8576b\"],[0.6666666666666666,\"#ed7953\"],[0.7777777777777778,\"#fb9f3a\"],[0.8888888888888888,\"#fdca26\"],[1.0,\"#f0f921\"]]}],\"choropleth\":[{\"type\":\"choropleth\",\"colorbar\":{\"outlinewidth\":0,\"ticks\":\"\"}}],\"histogram2d\":[{\"type\":\"histogram2d\",\"colorbar\":{\"outlinewidth\":0,\"ticks\":\"\"},\"colorscale\":[[0.0,\"#0d0887\"],[0.1111111111111111,\"#46039f\"],[0.2222222222222222,\"#7201a8\"],[0.3333333333333333,\"#9c179e\"],[0.4444444444444444,\"#bd3786\"],[0.5555555555555556,\"#d8576b\"],[0.6666666666666666,\"#ed7953\"],[0.7777777777777778,\"#fb9f3a\"],[0.8888888888888888,\"#fdca26\"],[1.0,\"#f0f921\"]]}],\"heatmap\":[{\"type\":\"heatmap\",\"colorbar\":{\"outlinewidth\":0,\"ticks\":\"\"},\"colorscale\":[[0.0,\"#0d0887\"],[0.1111111111111111,\"#46039f\"],[0.2222222222222222,\"#7201a8\"],[0.3333333333333333,\"#9c179e\"],[0.4444444444444444,\"#bd3786\"],[0.5555555555555556,\"#d8576b\"],[0.6666666666666666,\"#ed7953\"],[0.7777777777777778,\"#fb9f3a\"],[0.8888888888888888,\"#fdca26\"],[1.0,\"#f0f921\"]]}],\"heatmapgl\":[{\"type\":\"heatmapgl\",\"colorbar\":{\"outlinewidth\":0,\"ticks\":\"\"},\"colorscale\":[[0.0,\"#0d0887\"],[0.1111111111111111,\"#46039f\"],[0.2222222222222222,\"#7201a8\"],[0.3333333333333333,\"#9c179e\"],[0.4444444444444444,\"#bd3786\"],[0.5555555555555556,\"#d8576b\"],[0.6666666666666666,\"#ed7953\"],[0.7777777777777778,\"#fb9f3a\"],[0.8888888888888888,\"#fdca26\"],[1.0,\"#f0f921\"]]}],\"contourcarpet\":[{\"type\":\"contourcarpet\",\"colorbar\":{\"outlinewidth\":0,\"ticks\":\"\"}}],\"contour\":[{\"type\":\"contour\",\"colorbar\":{\"outlinewidth\":0,\"ticks\":\"\"},\"colorscale\":[[0.0,\"#0d0887\"],[0.1111111111111111,\"#46039f\"],[0.2222222222222222,\"#7201a8\"],[0.3333333333333333,\"#9c179e\"],[0.4444444444444444,\"#bd3786\"],[0.5555555555555556,\"#d8576b\"],[0.6666666666666666,\"#ed7953\"],[0.7777777777777778,\"#fb9f3a\"],[0.8888888888888888,\"#fdca26\"],[1.0,\"#f0f921\"]]}],\"surface\":[{\"type\":\"surface\",\"colorbar\":{\"outlinewidth\":0,\"ticks\":\"\"},\"colorscale\":[[0.0,\"#0d0887\"],[0.1111111111111111,\"#46039f\"],[0.2222222222222222,\"#7201a8\"],[0.3333333333333333,\"#9c179e\"],[0.4444444444444444,\"#bd3786\"],[0.5555555555555556,\"#d8576b\"],[0.6666666666666666,\"#ed7953\"],[0.7777777777777778,\"#fb9f3a\"],[0.8888888888888888,\"#fdca26\"],[1.0,\"#f0f921\"]]}],\"mesh3d\":[{\"type\":\"mesh3d\",\"colorbar\":{\"outlinewidth\":0,\"ticks\":\"\"}}],\"scatter\":[{\"fillpattern\":{\"fillmode\":\"overlay\",\"size\":10,\"solidity\":0.2},\"type\":\"scatter\"}],\"parcoords\":[{\"type\":\"parcoords\",\"line\":{\"colorbar\":{\"outlinewidth\":0,\"ticks\":\"\"}}}],\"scatterpolargl\":[{\"type\":\"scatterpolargl\",\"marker\":{\"colorbar\":{\"outlinewidth\":0,\"ticks\":\"\"}}}],\"bar\":[{\"error_x\":{\"color\":\"#2a3f5f\"},\"error_y\":{\"color\":\"#2a3f5f\"},\"marker\":{\"line\":{\"color\":\"#E5ECF6\",\"width\":0.5},\"pattern\":{\"fillmode\":\"overlay\",\"size\":10,\"solidity\":0.2}},\"type\":\"bar\"}],\"scattergeo\":[{\"type\":\"scattergeo\",\"marker\":{\"colorbar\":{\"outlinewidth\":0,\"ticks\":\"\"}}}],\"scatterpolar\":[{\"type\":\"scatterpolar\",\"marker\":{\"colorbar\":{\"outlinewidth\":0,\"ticks\":\"\"}}}],\"histogram\":[{\"marker\":{\"pattern\":{\"fillmode\":\"overlay\",\"size\":10,\"solidity\":0.2}},\"type\":\"histogram\"}],\"scattergl\":[{\"type\":\"scattergl\",\"marker\":{\"colorbar\":{\"outlinewidth\":0,\"ticks\":\"\"}}}],\"scatter3d\":[{\"type\":\"scatter3d\",\"line\":{\"colorbar\":{\"outlinewidth\":0,\"ticks\":\"\"}},\"marker\":{\"colorbar\":{\"outlinewidth\":0,\"ticks\":\"\"}}}],\"scattermapbox\":[{\"type\":\"scattermapbox\",\"marker\":{\"colorbar\":{\"outlinewidth\":0,\"ticks\":\"\"}}}],\"scatterternary\":[{\"type\":\"scatterternary\",\"marker\":{\"colorbar\":{\"outlinewidth\":0,\"ticks\":\"\"}}}],\"scattercarpet\":[{\"type\":\"scattercarpet\",\"marker\":{\"colorbar\":{\"outlinewidth\":0,\"ticks\":\"\"}}}],\"carpet\":[{\"aaxis\":{\"endlinecolor\":\"#2a3f5f\",\"gridcolor\":\"white\",\"linecolor\":\"white\",\"minorgridcolor\":\"white\",\"startlinecolor\":\"#2a3f5f\"},\"baxis\":{\"endlinecolor\":\"#2a3f5f\",\"gridcolor\":\"white\",\"linecolor\":\"white\",\"minorgridcolor\":\"white\",\"startlinecolor\":\"#2a3f5f\"},\"type\":\"carpet\"}],\"table\":[{\"cells\":{\"fill\":{\"color\":\"#EBF0F8\"},\"line\":{\"color\":\"white\"}},\"header\":{\"fill\":{\"color\":\"#C8D4E3\"},\"line\":{\"color\":\"white\"}},\"type\":\"table\"}],\"barpolar\":[{\"marker\":{\"line\":{\"color\":\"#E5ECF6\",\"width\":0.5},\"pattern\":{\"fillmode\":\"overlay\",\"size\":10,\"solidity\":0.2}},\"type\":\"barpolar\"}],\"pie\":[{\"automargin\":true,\"type\":\"pie\"}]},\"layout\":{\"autotypenumbers\":\"strict\",\"colorway\":[\"#636efa\",\"#EF553B\",\"#00cc96\",\"#ab63fa\",\"#FFA15A\",\"#19d3f3\",\"#FF6692\",\"#B6E880\",\"#FF97FF\",\"#FECB52\"],\"font\":{\"color\":\"#2a3f5f\"},\"hovermode\":\"closest\",\"hoverlabel\":{\"align\":\"left\"},\"paper_bgcolor\":\"white\",\"plot_bgcolor\":\"#E5ECF6\",\"polar\":{\"bgcolor\":\"#E5ECF6\",\"angularaxis\":{\"gridcolor\":\"white\",\"linecolor\":\"white\",\"ticks\":\"\"},\"radialaxis\":{\"gridcolor\":\"white\",\"linecolor\":\"white\",\"ticks\":\"\"}},\"ternary\":{\"bgcolor\":\"#E5ECF6\",\"aaxis\":{\"gridcolor\":\"white\",\"linecolor\":\"white\",\"ticks\":\"\"},\"baxis\":{\"gridcolor\":\"white\",\"linecolor\":\"white\",\"ticks\":\"\"},\"caxis\":{\"gridcolor\":\"white\",\"linecolor\":\"white\",\"ticks\":\"\"}},\"coloraxis\":{\"colorbar\":{\"outlinewidth\":0,\"ticks\":\"\"}},\"colorscale\":{\"sequential\":[[0.0,\"#0d0887\"],[0.1111111111111111,\"#46039f\"],[0.2222222222222222,\"#7201a8\"],[0.3333333333333333,\"#9c179e\"],[0.4444444444444444,\"#bd3786\"],[0.5555555555555556,\"#d8576b\"],[0.6666666666666666,\"#ed7953\"],[0.7777777777777778,\"#fb9f3a\"],[0.8888888888888888,\"#fdca26\"],[1.0,\"#f0f921\"]],\"sequentialminus\":[[0.0,\"#0d0887\"],[0.1111111111111111,\"#46039f\"],[0.2222222222222222,\"#7201a8\"],[0.3333333333333333,\"#9c179e\"],[0.4444444444444444,\"#bd3786\"],[0.5555555555555556,\"#d8576b\"],[0.6666666666666666,\"#ed7953\"],[0.7777777777777778,\"#fb9f3a\"],[0.8888888888888888,\"#fdca26\"],[1.0,\"#f0f921\"]],\"diverging\":[[0,\"#8e0152\"],[0.1,\"#c51b7d\"],[0.2,\"#de77ae\"],[0.3,\"#f1b6da\"],[0.4,\"#fde0ef\"],[0.5,\"#f7f7f7\"],[0.6,\"#e6f5d0\"],[0.7,\"#b8e186\"],[0.8,\"#7fbc41\"],[0.9,\"#4d9221\"],[1,\"#276419\"]]},\"xaxis\":{\"gridcolor\":\"white\",\"linecolor\":\"white\",\"ticks\":\"\",\"title\":{\"standoff\":15},\"zerolinecolor\":\"white\",\"automargin\":true,\"zerolinewidth\":2},\"yaxis\":{\"gridcolor\":\"white\",\"linecolor\":\"white\",\"ticks\":\"\",\"title\":{\"standoff\":15},\"zerolinecolor\":\"white\",\"automargin\":true,\"zerolinewidth\":2},\"scene\":{\"xaxis\":{\"backgroundcolor\":\"#E5ECF6\",\"gridcolor\":\"white\",\"linecolor\":\"white\",\"showbackground\":true,\"ticks\":\"\",\"zerolinecolor\":\"white\",\"gridwidth\":2},\"yaxis\":{\"backgroundcolor\":\"#E5ECF6\",\"gridcolor\":\"white\",\"linecolor\":\"white\",\"showbackground\":true,\"ticks\":\"\",\"zerolinecolor\":\"white\",\"gridwidth\":2},\"zaxis\":{\"backgroundcolor\":\"#E5ECF6\",\"gridcolor\":\"white\",\"linecolor\":\"white\",\"showbackground\":true,\"ticks\":\"\",\"zerolinecolor\":\"white\",\"gridwidth\":2}},\"shapedefaults\":{\"line\":{\"color\":\"#2a3f5f\"}},\"annotationdefaults\":{\"arrowcolor\":\"#2a3f5f\",\"arrowhead\":0,\"arrowwidth\":1},\"geo\":{\"bgcolor\":\"white\",\"landcolor\":\"#E5ECF6\",\"subunitcolor\":\"white\",\"showland\":true,\"showlakes\":true,\"lakecolor\":\"white\"},\"title\":{\"x\":0.05},\"mapbox\":{\"style\":\"light\"}}},\"xaxis\":{\"anchor\":\"y\",\"domain\":[0.0,1.0],\"title\":{\"text\":\"Change in Predicted Probability\"}},\"yaxis\":{\"anchor\":\"x\",\"domain\":[0.0,1.0],\"title\":{\"text\":\"Frequency\"}},\"legend\":{\"title\":{\"text\":\"Change Direction\"},\"tracegroupgap\":0},\"title\":{\"text\":\"Distribution of Changes in Predicted Probability When `is_black` Changed\"},\"barmode\":\"relative\",\"width\":1000,\"height\":600},                        {\"responsive\": true}                    ).then(function(){\n",
       "                            \n",
       "var gd = document.getElementById('c08a1b2f-2f6e-4200-82f8-b49dcae36150');\n",
       "var x = new MutationObserver(function (mutations, observer) {{\n",
       "        var display = window.getComputedStyle(gd).display;\n",
       "        if (!display || display === 'none') {{\n",
       "            console.log([gd, 'removed!']);\n",
       "            Plotly.purge(gd);\n",
       "            observer.disconnect();\n",
       "        }}\n",
       "}});\n",
       "\n",
       "// Listen for the removal of the full notebook cells\n",
       "var notebookContainer = gd.closest('#notebook-container');\n",
       "if (notebookContainer) {{\n",
       "    x.observe(notebookContainer, {childList: true});\n",
       "}}\n",
       "\n",
       "// Listen for the clearing of the current output cell\n",
       "var outputEl = gd.closest('.output');\n",
       "if (outputEl) {{\n",
       "    x.observe(outputEl, {childList: true});\n",
       "}}\n",
       "\n",
       "                        })                };                });            </script>        </div>"
      ]
     },
     "metadata": {},
     "output_type": "display_data"
    }
   ],
   "source": [
    "# Step 1: Identify instances where `is_black` changed\n",
    "changed_is_black_to_1_df = cf_results_df[\n",
    "    (cf_results_df[\"original_is_black\"] == 0) & (cf_results_df[\"is_black\"] == 1)\n",
    "].copy()\n",
    "changed_is_black_to_0_df = cf_results_df[\n",
    "    (cf_results_df[\"original_is_black\"] == 1) & (cf_results_df[\"is_black\"] == 0)\n",
    "].copy()\n",
    "\n",
    "print(\n",
    "    'mean of changed_is_black_to_1_df[\"change_in_proba\"]:',\n",
    "    changed_is_black_to_1_df[\"change_in_proba\"].mean(),\n",
    ")\n",
    "print(\n",
    "    'mean of changed_is_black_to_0_df[\"change_in_proba\"]:',\n",
    "    changed_is_black_to_0_df[\"change_in_proba\"].mean(),\n",
    ")\n",
    "\n",
    "# Combine the data for plotting\n",
    "changed_is_black_to_1_df[\"change_direction\"] = \"0 to 1\"\n",
    "changed_is_black_to_0_df[\"change_direction\"] = \"1 to 0\"\n",
    "combined_df = pd.concat([changed_is_black_to_1_df, changed_is_black_to_0_df])\n",
    "\n",
    "# Step 3: Visualize the distribution of changes in predicted probability using Plotly\n",
    "fig = px.histogram(\n",
    "    combined_df,\n",
    "    x=\"change_in_proba\",\n",
    "    color=\"change_direction\",\n",
    "    nbins=30,\n",
    "    title=\"Distribution of Changes in Predicted Probability When `is_black` Changed\",\n",
    "    labels={\"change_in_proba\": \"Change in Predicted Probability\"},\n",
    ")\n",
    "\n",
    "# Update the color for the specific case\n",
    "fig.update_traces(\n",
    "    marker=dict(color=\"blue\", opacity=0.3),  # Default color for \"0 to 1\"\n",
    "    selector=dict(name=\"0 to 1\"),\n",
    ")\n",
    "fig.update_traces(\n",
    "    marker=dict(color=\"red\", opacity=0.3),  # Color for \"1 to 0\"\n",
    "    selector=dict(name=\"1 to 0\"),\n",
    ")\n",
    "\n",
    "fig.update_layout(\n",
    "    xaxis_title=\"Change in Predicted Probability\",\n",
    "    yaxis_title=\"Frequency\",\n",
    "    legend_title=\"Change Direction\",\n",
    "    width=1000,  # specify the width in pixels\n",
    "    height=600,  # specify the height in pixels\n",
    "\n",
    ")\n",
    "\n",
    "\n",
    "fig.show()"
   ]
  },
  {
   "cell_type": "code",
   "execution_count": 18,
   "metadata": {},
   "outputs": [
    {
     "data": {
      "text/plain": [
       "(420, 17)"
      ]
     },
     "execution_count": 18,
     "metadata": {},
     "output_type": "execute_result"
    }
   ],
   "source": [
    "y_pred_changed_df = cf_results_df.loc[\n",
    "    (cf_results_df.original_y_pred != cf_results_df.cf_y_pred)\n",
    "    & (cf_results_df.original_is_black != cf_results_df.is_black)\n",
    "]\n",
    "y_pred_changed_df.shape"
   ]
  },
  {
   "cell_type": "code",
   "execution_count": 19,
   "metadata": {},
   "outputs": [
    {
     "data": {
      "text/html": [
       "<div>\n",
       "<style scoped>\n",
       "    .dataframe tbody tr th:only-of-type {\n",
       "        vertical-align: middle;\n",
       "    }\n",
       "\n",
       "    .dataframe tbody tr th {\n",
       "        vertical-align: top;\n",
       "    }\n",
       "\n",
       "    .dataframe thead th {\n",
       "        text-align: right;\n",
       "    }\n",
       "</style>\n",
       "<table border=\"1\" class=\"dataframe\">\n",
       "  <thead>\n",
       "    <tr style=\"text-align: right;\">\n",
       "      <th>is_black</th>\n",
       "      <th>0.0</th>\n",
       "      <th>1.0</th>\n",
       "    </tr>\n",
       "    <tr>\n",
       "      <th>cf_y_pred</th>\n",
       "      <th></th>\n",
       "      <th></th>\n",
       "    </tr>\n",
       "  </thead>\n",
       "  <tbody>\n",
       "    <tr>\n",
       "      <th>0</th>\n",
       "      <td>114</td>\n",
       "      <td>32</td>\n",
       "    </tr>\n",
       "    <tr>\n",
       "      <th>1</th>\n",
       "      <td>99</td>\n",
       "      <td>175</td>\n",
       "    </tr>\n",
       "  </tbody>\n",
       "</table>\n",
       "</div>"
      ],
      "text/plain": [
       "is_black   0.0  1.0\n",
       "cf_y_pred          \n",
       "0          114   32\n",
       "1           99  175"
      ]
     },
     "execution_count": 19,
     "metadata": {},
     "output_type": "execute_result"
    }
   ],
   "source": [
    "# pivot cf_results_df, get counts of : columns: is_black changes from 0 to 1, 1 to 0, rows: original_y_pred, cf_y_pred\n",
    "cf_results_df_pivot = y_pred_changed_df.pivot_table(\n",
    "    index=\"cf_y_pred\",\n",
    "    columns=[\"is_black\"],\n",
    "    values=\"original_index\",\n",
    "    aggfunc=\"count\",\n",
    "    fill_value=0,\n",
    ")\n",
    "cf_results_df_pivot"
   ]
  },
  {
   "cell_type": "code",
   "execution_count": 20,
   "metadata": {},
   "outputs": [
    {
     "data": {
      "text/plain": [
       "(6175, 17)"
      ]
     },
     "execution_count": 20,
     "metadata": {},
     "output_type": "execute_result"
    }
   ],
   "source": [
    "cf_results_df.shape"
   ]
  },
  {
   "cell_type": "code",
   "execution_count": 21,
   "metadata": {},
   "outputs": [
    {
     "data": {
      "text/plain": [
       "0.340080971659919"
      ]
     },
     "execution_count": 21,
     "metadata": {},
     "output_type": "execute_result"
    }
   ],
   "source": [
    "420/1235"
   ]
  }
 ],
 "metadata": {
  "kernelspec": {
   "display_name": "thesis",
   "language": "python",
   "name": "python3"
  },
  "language_info": {
   "codemirror_mode": {
    "name": "ipython",
    "version": 3
   },
   "file_extension": ".py",
   "mimetype": "text/x-python",
   "name": "python",
   "nbconvert_exporter": "python",
   "pygments_lexer": "ipython3",
   "version": "3.10.14"
  }
 },
 "nbformat": 4,
 "nbformat_minor": 2
}
